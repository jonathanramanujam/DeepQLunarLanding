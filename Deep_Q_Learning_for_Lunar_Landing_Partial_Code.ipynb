{
  "cells": [
    {
      "cell_type": "markdown",
      "metadata": {
        "id": "LbZcI9ZXHl3a"
      },
      "source": [
        "# Deep Q-Learning for Lunar Landing"
      ]
    },
    {
      "cell_type": "markdown",
      "metadata": {
        "id": "E8yPRjteXgPb"
      },
      "source": [
        "## Part 0 - Installing the required packages and importing the libraries"
      ]
    },
    {
      "cell_type": "markdown",
      "metadata": {
        "id": "slEm5teGWjWU"
      },
      "source": [
        "### Installing Gymnasium"
      ]
    },
    {
      "cell_type": "code",
      "execution_count": 65,
      "metadata": {
        "id": "dbnq3XpoKa_7",
        "outputId": "47b151f8-da61-4a44-e6e0-cb7c2b0dec4d",
        "colab": {
          "base_uri": "https://localhost:8080/"
        }
      },
      "outputs": [
        {
          "output_type": "stream",
          "name": "stdout",
          "text": [
            "Requirement already satisfied: gymnasium in /usr/local/lib/python3.10/dist-packages (0.29.1)\n",
            "Requirement already satisfied: numpy>=1.21.0 in /usr/local/lib/python3.10/dist-packages (from gymnasium) (1.25.2)\n",
            "Requirement already satisfied: cloudpickle>=1.2.0 in /usr/local/lib/python3.10/dist-packages (from gymnasium) (2.2.1)\n",
            "Requirement already satisfied: typing-extensions>=4.3.0 in /usr/local/lib/python3.10/dist-packages (from gymnasium) (4.11.0)\n",
            "Requirement already satisfied: farama-notifications>=0.0.1 in /usr/local/lib/python3.10/dist-packages (from gymnasium) (0.0.4)\n",
            "Requirement already satisfied: gymnasium[accept-rom-license,atari] in /usr/local/lib/python3.10/dist-packages (0.29.1)\n",
            "Requirement already satisfied: numpy>=1.21.0 in /usr/local/lib/python3.10/dist-packages (from gymnasium[accept-rom-license,atari]) (1.25.2)\n",
            "Requirement already satisfied: cloudpickle>=1.2.0 in /usr/local/lib/python3.10/dist-packages (from gymnasium[accept-rom-license,atari]) (2.2.1)\n",
            "Requirement already satisfied: typing-extensions>=4.3.0 in /usr/local/lib/python3.10/dist-packages (from gymnasium[accept-rom-license,atari]) (4.11.0)\n",
            "Requirement already satisfied: farama-notifications>=0.0.1 in /usr/local/lib/python3.10/dist-packages (from gymnasium[accept-rom-license,atari]) (0.0.4)\n",
            "Requirement already satisfied: autorom[accept-rom-license]~=0.4.2 in /usr/local/lib/python3.10/dist-packages (from gymnasium[accept-rom-license,atari]) (0.4.2)\n",
            "Requirement already satisfied: shimmy[atari]<1.0,>=0.1.0 in /usr/local/lib/python3.10/dist-packages (from gymnasium[accept-rom-license,atari]) (0.2.1)\n",
            "Requirement already satisfied: click in /usr/local/lib/python3.10/dist-packages (from autorom[accept-rom-license]~=0.4.2->gymnasium[accept-rom-license,atari]) (8.1.7)\n",
            "Requirement already satisfied: requests in /usr/local/lib/python3.10/dist-packages (from autorom[accept-rom-license]~=0.4.2->gymnasium[accept-rom-license,atari]) (2.31.0)\n",
            "Requirement already satisfied: tqdm in /usr/local/lib/python3.10/dist-packages (from autorom[accept-rom-license]~=0.4.2->gymnasium[accept-rom-license,atari]) (4.66.4)\n",
            "Requirement already satisfied: AutoROM.accept-rom-license in /usr/local/lib/python3.10/dist-packages (from autorom[accept-rom-license]~=0.4.2->gymnasium[accept-rom-license,atari]) (0.6.1)\n",
            "Requirement already satisfied: ale-py~=0.8.1 in /usr/local/lib/python3.10/dist-packages (from shimmy[atari]<1.0,>=0.1.0->gymnasium[accept-rom-license,atari]) (0.8.1)\n",
            "Requirement already satisfied: importlib-resources in /usr/local/lib/python3.10/dist-packages (from ale-py~=0.8.1->shimmy[atari]<1.0,>=0.1.0->gymnasium[accept-rom-license,atari]) (6.4.0)\n",
            "Requirement already satisfied: charset-normalizer<4,>=2 in /usr/local/lib/python3.10/dist-packages (from requests->autorom[accept-rom-license]~=0.4.2->gymnasium[accept-rom-license,atari]) (3.3.2)\n",
            "Requirement already satisfied: idna<4,>=2.5 in /usr/local/lib/python3.10/dist-packages (from requests->autorom[accept-rom-license]~=0.4.2->gymnasium[accept-rom-license,atari]) (3.7)\n",
            "Requirement already satisfied: urllib3<3,>=1.21.1 in /usr/local/lib/python3.10/dist-packages (from requests->autorom[accept-rom-license]~=0.4.2->gymnasium[accept-rom-license,atari]) (2.0.7)\n",
            "Requirement already satisfied: certifi>=2017.4.17 in /usr/local/lib/python3.10/dist-packages (from requests->autorom[accept-rom-license]~=0.4.2->gymnasium[accept-rom-license,atari]) (2024.2.2)\n",
            "Reading package lists... Done\n",
            "Building dependency tree... Done\n",
            "Reading state information... Done\n",
            "swig is already the newest version (4.0.2-1ubuntu1).\n",
            "0 upgraded, 0 newly installed, 0 to remove and 45 not upgraded.\n",
            "Requirement already satisfied: gymnasium[box2d] in /usr/local/lib/python3.10/dist-packages (0.29.1)\n",
            "Requirement already satisfied: numpy>=1.21.0 in /usr/local/lib/python3.10/dist-packages (from gymnasium[box2d]) (1.25.2)\n",
            "Requirement already satisfied: cloudpickle>=1.2.0 in /usr/local/lib/python3.10/dist-packages (from gymnasium[box2d]) (2.2.1)\n",
            "Requirement already satisfied: typing-extensions>=4.3.0 in /usr/local/lib/python3.10/dist-packages (from gymnasium[box2d]) (4.11.0)\n",
            "Requirement already satisfied: farama-notifications>=0.0.1 in /usr/local/lib/python3.10/dist-packages (from gymnasium[box2d]) (0.0.4)\n",
            "Requirement already satisfied: box2d-py==2.3.5 in /usr/local/lib/python3.10/dist-packages (from gymnasium[box2d]) (2.3.5)\n",
            "Requirement already satisfied: pygame>=2.1.3 in /usr/local/lib/python3.10/dist-packages (from gymnasium[box2d]) (2.5.2)\n",
            "Requirement already satisfied: swig==4.* in /usr/local/lib/python3.10/dist-packages (from gymnasium[box2d]) (4.2.1)\n"
          ]
        }
      ],
      "source": [
        "!pip install gymnasium\n",
        "!pip install \"gymnasium[atari, accept-rom-license]\"\n",
        "!apt-get install -y swig\n",
        "!pip install gymnasium[box2d]"
      ]
    },
    {
      "cell_type": "markdown",
      "metadata": {
        "id": "brqiMN3UW9T9"
      },
      "source": [
        "### Importing the libraries"
      ]
    },
    {
      "cell_type": "code",
      "execution_count": 66,
      "metadata": {
        "id": "mZaKXP_aMl9O"
      },
      "outputs": [],
      "source": [
        "import os\n",
        "import random\n",
        "import numpy as np\n",
        "import torch\n",
        "import torch.nn as nn\n",
        "import torch.optim as optim\n",
        "import torch.nn.functional as F\n",
        "import torch.autograd as autograd\n",
        "from torch.autograd import Variable\n",
        "from collections import deque, namedtuple"
      ]
    },
    {
      "cell_type": "markdown",
      "metadata": {
        "id": "EzlDKXvkXzGI"
      },
      "source": [
        "## Part 1 - Building the AI"
      ]
    },
    {
      "cell_type": "markdown",
      "metadata": {
        "id": "UtG6Zc83YYy3"
      },
      "source": [
        "### Creating the architecture of the Neural Network"
      ]
    },
    {
      "cell_type": "code",
      "source": [
        "#Network Class\n",
        "# stateSize is an 8-dimensional vector of each state\n",
        "  # coordinates of the lander in x & y, linear velocities in x & y, angle, angular velocity, two booleans that represent whether each leg is in contact with the ground or not.\n",
        "# actionSize is the number of actions available.\n",
        "  # 0 Do nothing, 1 Fire left orientation engine, 2 Fire main engine, 3 Fire right orientation engine\n",
        "# seed sets the random seed\n",
        "# fc1 is the connection between the first layer and the first fully connected layer\n",
        "# fc2 is connection between first fully connected layer and second\n",
        "# fc3 is connectio between second fully connected layer and output layer\n",
        "class Network(nn.Module):\n",
        "  def __init__(self, stateSize, actionSize, seed = 42):\n",
        "      super(Network, self).__init__()\n",
        "      self.seed = torch.manual_seed(seed)\n",
        "      self.fc1 = nn.Linear(stateSize, 64)\n",
        "      self.fc2 = nn.Linear(64, 64)\n",
        "      self.fc3 = nn.Linear(64, actionSize)\n",
        "\n",
        "  # This function forward propogates the signal from input, through fully connected layers, and to the output\n",
        "  def forward(self, state):\n",
        "    # x = F.relu(self.fc1(state)) # This line propogates signal from input to first fully connected layer via the rectified linear unit function.\n",
        "    # x = F.relu(self.fc2(x))\n",
        "    # return F.relu(self.fc3(x))\n",
        "    x = self.fc1(state)\n",
        "    x = F.relu(x) # This line propogates signal from input to first fully connected layer via the rectified linear unit function.\n",
        "    x = self.fc2(x)\n",
        "    x = F.relu(x)\n",
        "    return self.fc3(x)"
      ],
      "metadata": {
        "id": "OzpvG3n4_ZFe"
      },
      "execution_count": 67,
      "outputs": []
    },
    {
      "cell_type": "markdown",
      "metadata": {
        "id": "UxVrBnFWZKb1"
      },
      "source": [
        "## Part 2 - Training the AI"
      ]
    },
    {
      "cell_type": "markdown",
      "metadata": {
        "id": "T364fz9qZb2j"
      },
      "source": [
        "### Setting up the environment"
      ]
    },
    {
      "cell_type": "code",
      "source": [
        "import gymnasium\n",
        "env = gymnasium.make(\"LunarLander-v2\")\n",
        "stateShape = env.observation_space.shape    #The vector containing our 8 dimensions\n",
        "stateSize = env.observation_space.shape[0]  #The number of dimensions of each state\n",
        "numberActions = env.action_space.n          #The number of actions available\n",
        "print('State Shape: ', stateShape)\n",
        "print('State Size: ', stateSize)\n",
        "print('Number of Actions: ', numberActions)"
      ],
      "metadata": {
        "colab": {
          "base_uri": "https://localhost:8080/"
        },
        "id": "Bsh531FQJIUq",
        "outputId": "f618ad60-ec50-4aa3-ed75-ae1d859af783"
      },
      "execution_count": 68,
      "outputs": [
        {
          "output_type": "stream",
          "name": "stdout",
          "text": [
            "State Shape:  (8,)\n",
            "State Size:  8\n",
            "Number of Actions:  4\n"
          ]
        }
      ]
    },
    {
      "cell_type": "markdown",
      "metadata": {
        "id": "c_dZmOIvZgj-"
      },
      "source": [
        "### Initializing the hyperparameters"
      ]
    },
    {
      "cell_type": "code",
      "source": [
        "learningRate = 5e-4           #Determined after experimentation\n",
        "miniBatchSize = 100           #Standard batch size\n",
        "discountFactor = 0.99          #A gamma closer to 1 will prefer consideration of future rewards. Closer to 0 becomes more short-sighted\n",
        "replayBufferSize = int(1e5)   #Memory of the AI\n",
        "interpolationParameter = 1e-3 #Determined after experimentation"
      ],
      "metadata": {
        "id": "yzVxU4G2MDbX"
      },
      "execution_count": 69,
      "outputs": []
    },
    {
      "cell_type": "markdown",
      "metadata": {
        "id": "8hD_Vs-bYnip"
      },
      "source": [
        "### Implementing Experience Replay"
      ]
    },
    {
      "cell_type": "code",
      "source": [
        "class ReplayMemory(object):\n",
        "  def __init__(self, capacity):\n",
        "     self.device = torch.device(\"cuda:0\" if torch.cuda.is_available() else \"cpu\") #Enables GPU learning. Uses CUDA cores\n",
        "     self.capacity = capacity #The number of memories to keep\n",
        "     self.memory = []         #Array of memories\n",
        "\n",
        "  # Add a new memory, and delete the oldest memory if capacity is exceeded\n",
        "  def push(self, event):\n",
        "    self.memory.append(event)\n",
        "    if len(self.memory) > self.capacity:\n",
        "      del self.memory[0]\n",
        "\n",
        "  def sample(self, batchSize):\n",
        "    experiences = random.sample(self.memory, k = batchSize) #Get a random sampling of previous memories, equal to the batch size\n",
        "    # Stack up the states, actions, rewards, next states, and dones into pyTorch Tensors. Tensors are basically matrices for learning application.\n",
        "    states = torch.from_numpy(np.vstack([e[0] for e in experiences if e is not None])).float().to(self.device) #for every state \"e[0]\" in each experience, add them to a vstack, and convert the numPy arrays to pyTorch tensors.\n",
        "    actions = torch.from_numpy(np.vstack([e[1] for e in experiences if e is not None])).long().to(self.device)\n",
        "    rewards = torch.from_numpy(np.vstack([e[2] for e in experiences if e is not None])).float().to(self.device)\n",
        "    nextStates = torch.from_numpy(np.vstack([e[3] for e in experiences if e is not None])).float().to(self.device)\n",
        "    dones = torch.from_numpy(np.vstack([e[4] for e in experiences if e is not None]).astype(np.uint8)).float().to(self.device) # np.uint8 sets this type to bool before converting to float\n",
        "    return states, nextStates, actions, rewards, dones"
      ],
      "metadata": {
        "id": "cx0RHHolNMr4"
      },
      "execution_count": 70,
      "outputs": []
    },
    {
      "cell_type": "markdown",
      "metadata": {
        "id": "JmEkbFbUY6Jt"
      },
      "source": [
        "### Implementing the DQN class"
      ]
    },
    {
      "cell_type": "code",
      "source": [
        "# The agent that interacts with our lunar landing space environment using deep-Q network. The agent maintains 2 q networks, the local and target.\n",
        "# The local Q network selects the actions, and the target Q network calculates the target Q values that will be used in the training of the local network\n",
        "class Agent():\n",
        "  def __init__(self, stateSize, actionSize):\n",
        "    self.device = torch.device(\"cuda:0\" if torch.cuda.is_available() else \"cpu\") #Enables GPU learning. Uses CUDA cores\n",
        "    self.stateSize = stateSize\n",
        "    self.actionSize = actionSize\n",
        "    self.localQNetwork = Network(stateSize, actionSize).to(self.device)\n",
        "    self.targetQNetwork = Network(stateSize, actionSize).to(self.device)\n",
        "    self.optimizer = optim.Adam(self.localQNetwork.parameters(), lr = learningRate)\n",
        "    self.memory = ReplayMemory(replayBufferSize)\n",
        "    self.timeStep = 0\n",
        "\n",
        "  #Every 4 steps preform a learning. Do so only if we have a number of memories greater than our miniBatchSize.\n",
        "  def step(self, state, action, reward, nextState, done):\n",
        "    self.memory.push((state, action, reward, nextState, done))\n",
        "    self.timeStep = (self.timeStep + 1) % 4\n",
        "    if self.timeStep == 0:\n",
        "      if len(self.memory.memory) > miniBatchSize:\n",
        "        experiences = self.memory.sample(miniBatchSize)\n",
        "        self.learn(experiences, discountFactor)\n",
        "\n",
        "  # Selects an action based on a given state and a certain epsilon value\n",
        "  # Takes into consideration the current policy, epsilon greedy\n",
        "  def act(self, state, epsilon = 0.):\n",
        "    state = torch.from_numpy(state).float().unsqueeze(0).to(self.device)\n",
        "    self.localQNetwork.eval()\n",
        "    with torch.no_grad():\n",
        "      actionValues = self.localQNetwork(state) #Disables \"Gradient Computation\"\n",
        "    self.localQNetwork.train()\n",
        "    if random.random() > epsilon:\n",
        "      return np.argmax(actionValues.cpu().data.numpy())\n",
        "    else:\n",
        "      return random.choice(np.arange(self.actionSize))\n",
        "\n",
        "  # Updates updates Q values based on sampled experiences\n",
        "  def learn(self, experiences, discountFactor):\n",
        "    states, nextStates, actions, rewards, dones = experiences   # Unpack experiences into sample values\n",
        "    nextQTargets = self.targetQNetwork(nextStates).detach().max(1)[0].unsqueeze(1)  # Maximum curated values for the next state. Detach is used to detach the tensor from the graph to prevent tracking gradients during backward propagation\n",
        "    qTargets = rewards + discountFactor * nextQTargets * (1-dones)  # Compute Q Targets for our current state\n",
        "    qExpected = self.localQNetwork(states).gather(1, actions) # Get expected Q Values from local network\n",
        "    loss = F.mse_loss(qExpected, qTargets) # Calculated the loss between the expected Q values and the Q Targets\n",
        "    self.optimizer.zero_grad() # Zero out the optimizer\n",
        "    loss.backward() #Back propagate this loss\n",
        "    self.optimizer.step()\n",
        "    self.softUpdate(self.localQNetwork, self.targetQNetwork, interpolationParameter)\n",
        "\n",
        "  # Softly updates target parameters using weighted average of local and target parameters.\n",
        "  # This slow updated prevents large changes from occurring, which overall stabilizes the learning of the model.\n",
        "  def softUpdate(self, localModel, targetModel, interpolationParameter):\n",
        "    for targetParameters, localParameters in zip(targetModel.parameters(), localModel.parameters()): # loop through target and local parameters. Use zip to get both at the same time.\n",
        "      targetParameters.data.copy_(interpolationParameter * localParameters.data + (1.0 - interpolationParameter) * targetParameters.data)\n",
        "\n"
      ],
      "metadata": {
        "id": "Xxo84t_ZEGpd"
      },
      "execution_count": 71,
      "outputs": []
    },
    {
      "cell_type": "markdown",
      "metadata": {
        "id": "o1tZElccZmf6"
      },
      "source": [
        "### Initializing the DQN agent"
      ]
    },
    {
      "cell_type": "code",
      "source": [
        "agent = Agent(stateSize, numberActions)"
      ],
      "metadata": {
        "id": "2uabJB6G9MRk"
      },
      "execution_count": 72,
      "outputs": []
    },
    {
      "cell_type": "markdown",
      "metadata": {
        "id": "E8v0PtUfaVQp"
      },
      "source": [
        "### Training the DQN agent"
      ]
    },
    {
      "cell_type": "code",
      "source": [
        "numberEpisodes = 2000\n",
        "maximumTimeStepsPerEpisode = 1000\n",
        "epsilonStartingValue = 1.0\n",
        "epsilonEndingValue = 0.01\n",
        "epsilonDecayValue = 0.995 # By setting a marginal decay value, we can allow for different levels of experimentation in the greedy policy.\n",
        "epsilon = epsilonStartingValue\n",
        "scoresOn100Episodes = deque(maxlen = 100)\n",
        "\n",
        "for episode in range(1, numberEpisodes + 1): # The upper bound is excluded in python, so add a +1\n",
        "  state, _ = env.reset() # Reset the environment with an initial state. Discard anything else besides state with _\n",
        "  score = 0\n",
        "  for t in range(maximumTimeStepsPerEpisode):\n",
        "    action = agent.act(state, epsilon) # Choose an action for this step\n",
        "    nextState, reward, done, _, _ = env.step(action)  # Run this action through the environment\n",
        "    agent.step(state, action, reward, nextState, done)  # Train the agent on the ouput from the environment\n",
        "    state = nextState\n",
        "    score += reward\n",
        "    if done:\n",
        "      break\n",
        "  scoresOn100Episodes.append(score)\n",
        "  epsilon = max(epsilonEndingValue, epsilonDecayValue * epsilon)\n",
        "  print('\\rEpisode {}\\tAverage Score: {:.2f}'.format(episode, np.mean(scoresOn100Episodes)), end=\"\")\n",
        "  if episode % 100 == 0:\n",
        "    print('\\rEpisode {}\\tAverage Score: {:.2f}'.format(episode, np.mean(scoresOn100Episodes)))\n",
        "  if np.mean(scoresOn100Episodes) >= 200.0:\n",
        "    print('\\nEnvironment solved in {:d} episodes!\\tAverage Score: {:.2f}'.format(episode, np.mean(scoresOn100Episodes)))\n",
        "    torch.save(agent.localQNetwork.state_dict(), 'checkpoint.pth')\n",
        "    break"
      ],
      "metadata": {
        "colab": {
          "base_uri": "https://localhost:8080/"
        },
        "id": "whlMOBzb-0-p",
        "outputId": "b7e9e5d8-139f-4c2c-c13e-819251657b76"
      },
      "execution_count": 76,
      "outputs": [
        {
          "output_type": "stream",
          "name": "stdout",
          "text": [
            "Episode 100\tAverage Score: -97.21\n",
            "Episode 200\tAverage Score: -18.14\n",
            "Episode 300\tAverage Score: 85.47\n",
            "Episode 400\tAverage Score: 193.33\n",
            "Episode 430\tAverage Score: 200.32\n",
            "Environment solved in 430 episodes!\tAverage Score: 200.32\n"
          ]
        }
      ]
    },
    {
      "cell_type": "markdown",
      "metadata": {
        "id": "O8CNwdOTcCoP"
      },
      "source": [
        "## Part 3 - Visualizing the results"
      ]
    },
    {
      "cell_type": "code",
      "execution_count": 81,
      "metadata": {
        "id": "cb9nVvU2Okhk",
        "colab": {
          "base_uri": "https://localhost:8080/",
          "height": 459
        },
        "outputId": "99868a4e-3e57-4910-a4df-ade84909cb22"
      },
      "outputs": [
        {
          "output_type": "stream",
          "name": "stderr",
          "text": [
            "WARNING:imageio_ffmpeg:IMAGEIO FFMPEG_WRITER WARNING: input image is not divisible by macro_block_size=16, resizing from (600, 400) to (608, 400) to ensure video compatibility with most codecs and players. To prevent resizing, make your input image divisible by the macro_block_size or set the macro_block_size to 1 (risking incompatibility).\n"
          ]
        },
        {
          "output_type": "display_data",
          "data": {
            "text/plain": [
              "<IPython.core.display.HTML object>"
            ],
            "text/html": [
              "<video alt=\"test\" autoplay\n",
              "                loop controls style=\"height: 400px;\">\n",
              "                <source src=\"data:video/mp4;base64,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\" type=\"video/mp4\" />\n",
              "             </video>"
            ]
          },
          "metadata": {}
        }
      ],
      "source": [
        "import glob\n",
        "import io\n",
        "import base64\n",
        "import imageio\n",
        "from IPython.display import HTML, display\n",
        "from gym.wrappers.monitoring.video_recorder import VideoRecorder\n",
        "\n",
        "def show_video_of_model(agent, env_name):\n",
        "    env = gymnasium.make(env_name, render_mode='rgb_array')\n",
        "    state, _ = env.reset()\n",
        "    done = False\n",
        "    frames = []\n",
        "    while not done:\n",
        "        frame = env.render()\n",
        "        frames.append(frame)\n",
        "        action = agent.act(state)\n",
        "        state, reward, done, _, _ = env.step(action.item())\n",
        "    env.close()\n",
        "    imageio.mimsave('video.mp4', frames, fps=30)\n",
        "\n",
        "show_video_of_model(agent, 'LunarLander-v2')\n",
        "\n",
        "def show_video():\n",
        "    mp4list = glob.glob('*.mp4')\n",
        "    if len(mp4list) > 0:\n",
        "        mp4 = mp4list[0]\n",
        "        video = io.open(mp4, 'r+b').read()\n",
        "        encoded = base64.b64encode(video)\n",
        "        display(HTML(data='''<video alt=\"test\" autoplay\n",
        "                loop controls style=\"height: 400px;\">\n",
        "                <source src=\"data:video/mp4;base64,{0}\" type=\"video/mp4\" />\n",
        "             </video>'''.format(encoded.decode('ascii'))))\n",
        "    else:\n",
        "        print(\"Could not find video\")\n",
        "\n",
        "show_video()"
      ]
    }
  ],
  "metadata": {
    "colab": {
      "provenance": []
    },
    "kernelspec": {
      "display_name": "Python 3",
      "name": "python3"
    },
    "language_info": {
      "name": "python"
    }
  },
  "nbformat": 4,
  "nbformat_minor": 0
}